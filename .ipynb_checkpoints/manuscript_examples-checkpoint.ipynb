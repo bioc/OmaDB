{
 "cells": [
  {
   "cell_type": "markdown",
   "metadata": {},
   "source": [
    "## Example 1"
   ]
  },
  {
   "cell_type": "code",
   "execution_count": null,
   "metadata": {},
   "outputs": [],
   "source": [
    "library(httr)\n",
    "\n",
    "url = \"https://omabrowser.org/api/protein/P53_RAT/\"\n",
    "response = GET(url)\n",
    "\n",
    "response_content_list = httr::content(response, as = \"parsed\")\n"
   ]
  },
  {
   "cell_type": "markdown",
   "metadata": {},
   "source": [
    "## Example 2\n"
   ]
  },
  {
   "cell_type": "code",
   "execution_count": null,
   "metadata": {},
   "outputs": [],
   "source": [
    "library(OmaDB)\n",
    "\n",
    "Sequence <- 'MKLVFLVLLFLGALGLCLAGRRRSVQWCAVSQPEATKCFQWQRNMRKVRGPPVSCIKRDSPIQCIQAIAENRADAVTLDGGFIYEAGLAPYKLRPVAAEVYGTERQPRTHYYAVAVVKKGGSFQLNELQGLKSCHTGLRRTAGWNVPIGTLRPFLNWTGPPEPIEAAVARFFSASCVPGADKGQFPNLCRLCAGTGENKCAFSSQEPYFSYSGAFKCLRDGAGDVAFIRESTVFEDLSDEAERDEYELLCPDNTRKPVDKFKDCHLARVPSHAVVARSVNGKEDAIWNLLRQAQEKFGKDKSPKFQLFGSPSGQKDLLFKDSAIGFSRVPPRIDSGLYLGSGYFTAIQNLRKSEEEVAARRARVVWCAVGEQELRKCNQWSGLSEGSVTCSSASTTEDCIALVLKGEADAMSLDGGYVYTAGKCGLVPVLAENYKSQQSSDPDPNCVDRPVEGYLAVAVVRRSDTSLTWNSVKGKKSCHTAVDRTAGWNIPMGLLFNQTGSCKFDEYFSQSCAPGSDPRSNLCALCIGDEQGENKCVPNSNERYYGYTGAFRCLAENAGDVAFVKDVTVLQNTDGNNNEAWAKDLKLADFALLCLDGKRKPVTEARSCHLAMAPNHAVVSRMDKVERLKQVLLHQQAKFGRNGSDCPDKFCLFQSETKNLLFNDNTECLARLHGKTTYEKYLGPQYVAGITNLKKCSTSPLLEACEFLRK'\n",
    "seq_annotation = mapSequence(sequence)\n",
    "\n",
    "seq_annotation$targets[[1]]$canonicalid          # 'YEAST00058'\n",
    "\n",
    "hog_id <- seq_annotation$targets[[1]]$oma_hog_id   # ’HOG:0413862.1a.1b'\n",
    "hog <- getHOG(id = hog_id, members = TRUE, level = 'Mammalia')\n",
    "hog$members\n",
    "\n",
    "\n",
    "hog <- getHOG(id = 'TRFL_HUMAN', members = TRUE, level = 'Mammalia')\n",
    "\n",
    "ontologies <- getInfo(hog$members, type = 'ontologies')\n",
    "\n",
    "bgHOG <- getHOG(id = 'TRFL_HUMAN', members = TRUE, level = 'Eukaryota')\n",
    "bgOntologies <- getInfo(bgHOG$members, type = 'ontologies')\n",
    "\n",
    "library(topGO)\n",
    "myGO <- getTopGO(annotations = bgOntologies, format = 'geneID2GO',  \n",
    "    myInterestingGenes = hog$members, ontology = 'BP')\n",
    "myRes <- runTest(myGO, algorithm = 'classic', statistic = 'fisher')\n",
    "print(GenTable(myGO, myRes))\n"
   ]
  },
  {
   "cell_type": "markdown",
   "metadata": {},
   "source": [
    "## Example 3"
   ]
  },
  {
   "cell_type": "code",
   "execution_count": null,
   "metadata": {},
   "outputs": [],
   "source": [
    "library(OmaDB)\n",
    "\n",
    "tax = getTaxonomy(root = 'Hominoidea')\n",
    "\n",
    "library(ggtree)\n",
    "\n",
    "tree = getTree(tax$newick)\n",
    "\n",
    "mytree = ggtree(tree) \n",
    "\n",
    "labels = c(\"Pan troglodytes\",\n",
    "              \"Pan paniscus\",\n",
    "              \"Homo sapiens\",\n",
    "              \"Gorilla gorilla gorilla\",\n",
    "              \"Pongo abelii\",\n",
    "              \"Nomascus leucogenys\")\n",
    "\n",
    "library(rphylopic)\n",
    "\n",
    "ids = sapply(labels, FUN = function(x)         name_search(x)$canonicalName[1,1])\n",
    "\n",
    "images = sapply(as.character(ids), FUN = function(x) tryCatch(name_images(x)$same[[1]]$uid, error = function(w) name_images(x)$supertaxa[[1]]$uid))\n",
    "\n",
    "\n",
    "d <- data.frame(label = labels, images = as.character(images))\n",
    "\n",
    "library(dplyr)\n",
    "\n",
    "mytree %<+% d + geom_tiplab(aes(image=images), geom=\"phylopic\", offset = 2.3, color='steelblue') + geom_tiplab(offset = 0.3) + ggplot2::xlim(0, 7)\n",
    "\n"
   ]
  },
  {
   "cell_type": "markdown",
   "metadata": {},
   "source": [
    "## Example 4"
   ]
  },
  {
   "cell_type": "code",
   "execution_count": null,
   "metadata": {},
   "outputs": [],
   "source": [
    "library(OmaDB)\n",
    "\n",
    "mouse = getTaxonomy(members='Mus musculus',newick=FALSE)$id\n",
    "human = getTaxonomy(members='Homo sapiens',newick=FALSE)$id\n",
    "dog = getTaxonomy(members='Canis lupus familiaris',newick=FALSE)$id\n",
    "\n",
    "human_mouse = getPairs(genome_id1 =human, genome_id2 = mouse, per_page = \"all\", rel_type=\"1:1\")\n",
    "\n",
    "human_dog = getPairs(genome_id1 =human, genome_id2 = dog, per_page = \"all\", rel_type=\"1:1\")\n",
    "\n",
    "human_mouse$Species  = 'Mus musculus'\n",
    "human_dog$Species = 'Canis lupus familiaris'\n",
    "\n",
    "all_pairs = rbind(human_mouse,human_dog)\n",
    "all_pairs$Species = as.factor(all_pairs$Species)\n",
    "library(ggplot2)\n",
    "\n",
    "g <- ggplot(all_pairs, aes(x = 'evolutionary distance [PAM]', fill = Species)) + geom_density(alpha = 0.5) + theme(legend.position=\"bottom\",panel.grid.major = element_blank(), panel.grid.minor = element_blank(),\n",
    "panel.background = element_blank(), axis.line = element_line(colour = \"black\"))\n",
    "dev.off()\n",
    "\n",
    "print(g)\n",
    "\n",
    "ks.test(human_dog$distance,human_mouse$distance) \n"
   ]
  },
  {
   "cell_type": "markdown",
   "metadata": {},
   "source": [
    "## Example 5"
   ]
  },
  {
   "cell_type": "code",
   "execution_count": null,
   "metadata": {},
   "outputs": [],
   "source": [
    "# Our mystery sequence is cystic fibrosis transmembrane conductance\n",
    "# regulator in the Emperor penguin (UniProt ID: A0A087RGQ1_APTFO)\n",
    "mysterySeq <- 'FFFLLRWTKPILRKGYRRRLELSDIYQIPSADSADNLSEKLEREWDRELATSKKKPKLINALRRCFFWKFMFYGIILYLGEVTKSVQPLLLGRIIASYDPDNSDERSIAYYLAIGLCLLFLVRTLLIHPAIFGLHHIGMQMRIAMFSLIYKKILKLSSRVLDKISTGQLVSLLSNNLNKFDEGLALAHFVWIAPLQVALLMGLLWDMLEASAFSGLAFLIVLAFFQAWLGQRMMKYRNKRAGKINERLVITSEIIENIQSVKAYCWEDAMEKMIESIRETELKLTRKAAYVRYFNSSAFFFSGFFVVFLAVLPYAVIKGIILRKIFTTISFCIVLRMTVTRQFPGSVQTWYDSIGAINKIQDFLLKKEYKSLEYNLTTTGVELDKVTAFWDEGIGELFVKANQENNNSKAPSTDNNLFFSNFPLHASPVLQDINFKIEKGQLLAVSGSTGAGKTSLLMLIMGELEPSQGRLKHSGRISFSPQVSWIMPGTIKENIIFGVSYDEYRYKSVIKACQLEEDISKFPDKDYTVLGDGGIILSGGQRARISLARAVYKDADLYLLDSPFGHLDIFTEKEIFESCVCKLMANKTRILVTSKLEHLKIADKILILHEGSCYFYGTFSELQGQRPDFSSELMGFDSFDQFSAERRNSILTETLRRFSIEGEGTGSRNEIKKQSFKQTSDFNDKRKNSIIINPLNASRKFSVVQRNGMQVNGIEDGHNDPPERRFSLVPDLEQGDVGLLRSSMLNTDHILQGRRRQSVLNLMTGTSVNYGPNFSKKGSTTFRKMSMVPQTNLSSEIDIYTRRLSRDSVLDITDEINEEDLKECFTDDAESMGTVTTWNTYFRYVTIHKNLIFVLILCVTVFLVEVAASLAGLWFLKQTALKANTTQSENSTSDKPPVIVTVTSSYYIIYIYVGVADTLLAMGIFRGLPLVHTLITVSKTLHQKMVHAVLHAPMSTFNSWKAGGMLNRFSKDTAVLDDLLPLTVFDFIQLILIVIGAITVVSILQPYIFLASVPVIAAFILLRAYFLHTSQQLKQLESEARSPIFTHLVTSLKGLWTLRAFGRQPYFETLFHKALNLHTANWFLYLSTLRWFQMRIEMIFVVFFVAVAFISIVTTGDGSGKVGIILTLAMNIMGTLQWAVNSSIDVDSLMRSVGRIFKFIDMPTEEMKNIKPHKNNQFSDALVIENRHAKEEKNWPSGGQMTVKDLTAKYSEGGAAVLENISFSISSGQRVGLLGRTGSGKSTLLFAFLRLLNTEGDIQIDGVSWSTVSVQQWRKAFGVIPQKVFIFSGTFRMNLDPYGQWNDEEIWKVAEEVGLKSVIEQFPGQLDFVLVDGGCVLSHGHKQLMCLARSVLSKAKILLLDEPSAHLDPVTSQVIRKTLKHAFANCTVILSEHRLEAMLECQRFLVIEDNKLRQYESIQKLLNEKSSFRQAISHADRLKLLPVHHRNSSKRKPRPKITALQEETEEEVQETRL'\n",
    "myAnnotations <- getAnnotation(mysterySeq)\n"
   ]
  }
 ],
 "metadata": {
  "kernelspec": {
   "display_name": "R",
   "language": "R",
   "name": "ir"
  },
  "language_info": {
   "codemirror_mode": "r",
   "file_extension": ".r",
   "mimetype": "text/x-r-source",
   "name": "R",
   "pygments_lexer": "r",
   "version": "3.5.1"
  }
 },
 "nbformat": 4,
 "nbformat_minor": 2
}
