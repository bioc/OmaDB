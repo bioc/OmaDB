{
 "cells": [
  {
   "cell_type": "markdown",
   "metadata": {},
   "source": [
    "## Example 1"
   ]
  },
  {
   "cell_type": "code",
   "execution_count": null,
   "metadata": {},
   "outputs": [],
   "source": [
    "library(httr)\n",
    "\n",
    "url = \"https://omabrowser.org/api/protein/P53_RAT/\"\n",
    "response = GET(url)\n",
    "\n",
    "response_content_list = httr::content(response, as = \"parsed\")\n"
   ]
  },
  {
   "cell_type": "markdown",
   "metadata": {},
   "source": [
    "## Example 2\n"
   ]
  },
  {
   "cell_type": "code",
   "execution_count": null,
   "metadata": {},
   "outputs": [],
   "source": [
    "library(OmaDB)\n",
    "\n",
    "sequence='MNDPSLLGYPNVGPQQQQQQQQQQHAGLLGKGTPNALQQQLHMNQLTGIPPPGLMNNSDVHTSSNNNSRQLLDQLANGNANMLNMNMDNNNNNNNNNNNNNNNGGGSGVMMNASTAAVNSIGMVPTVGTPVNINVNASNPLLHPHLDDPSLLNNPIWKLQLHLAAVSAQSLGQPNIYARQNAMKKYLATQQAQQAQQQAQQQAQQQVPGPFGPGPQAAPPALQPTDFQQSHIAEASKSLVDCTKQALMEMADTLTDSKTAKKQQPTGDSTPSGTATNSAVSTPLTPKIELFANGKDEANQALLQHKKLSQYSIDEDDDIENRMVMPKDSKYDDQLWHALDLSNLQIFNISANIFKYDFLTRLYLNGNSLTELPAEIKNLSNLRVLDLSHNRLTSLPAELGSCFQLKYFYFFDNMVTTLPWEFGNLCNLQFLGVEGNPLEKQFLKILTEKSVTGLIFYLRDNRPEIPLPHERRFIEINTDGEPQREYDSLQQSTEHLATDLAKRTFTVLSYNTLCQHYATPKMYRYTPSWALSWDYRRNKLKEQILSYDSDLLCLQEVESKTFEEYWVPLLDKHGYTGIFHAKARAKTMHSKDSKKVDGCCIFFKRDQFKLITKDAMDFSGAWMKHKKFQRTEDYLNRAMNKDNVALFLKLQHIPSGDTIWAVTTHLHWDPKFNDVKTFQVGVLLDHLETLLKEETSHNFRQDIKKFPVLICGDFNSYINSAVYELINTGRVQIHQEGNGRDFGYMSEKNFSHNLALKSSYNCIGELPFTNFTPSFTDVIDYIWFSTHALRVRGLLGEVDPEYVSKFIGFPNDKFPSDHIPLLARFEFMKTNTGSKKV'\n",
    "\n",
    "seq_annotation = mapSequence(sequence)\n",
    "\n",
    "seq_annotation$targets[[1]]$omaid          # 'YEAST00058'\n",
    "seq_annotation$targets[[1]]$oma_hog_id     # 'HOG:0402391.2b'\n",
    "\n",
    "hog = getHOG(id = 'HOG:0402391.2b',members = TRUE)\n",
    "hog_members = hog$members\n",
    "\n",
    "\n",
    "hog = getHOG(id = 'YEAST00058',members = TRUE)\n",
    "hog_members = hog$members\n",
    "\n",
    "\n",
    "ontologies = getInfo(hog_members,type=’ontologies’)\n",
    "\n",
    "\n",
    "library(topGO)\n",
    "\n",
    "topGO_object = getTopGO(annotations = ontologies, format = 'geneID2GO', myInterestingGenes = hog_members[1:15,])\n"
   ]
  },
  {
   "cell_type": "markdown",
   "metadata": {},
   "source": [
    "## Example 3"
   ]
  },
  {
   "cell_type": "code",
   "execution_count": null,
   "metadata": {},
   "outputs": [],
   "source": [
    "library(OmaDB)\n",
    "\n",
    "tax = getTaxonomy(root = 'Hominoidea')\n",
    "\n",
    "library(ggtree)\n",
    "\n",
    "tree = getTree(tax$newick)\n",
    "\n",
    "mytree = ggtree(tree) \n",
    "\n",
    "labels = c(\"Pan troglodytes\",\n",
    "              \"Pan paniscus\",\n",
    "              \"Homo sapiens\",\n",
    "              \"Gorilla gorilla gorilla\",\n",
    "              \"Pongo abelii\",\n",
    "              \"Nomascus leucogenys\")\n",
    "\n",
    "library(rphylopic)\n",
    "\n",
    "ids = sapply(labels, FUN = function(x)         name_search(x)$canonicalName[1,1])\n",
    "\n",
    "images = sapply(as.character(ids), FUN = function(x) tryCatch(name_images(x)$same[[1]]$uid, error = function(w) name_images(x)$supertaxa[[1]]$uid))\n",
    "\n",
    "\n",
    "d <- data.frame(label = labels, images = as.character(images))\n",
    "\n",
    "library(dplyr)\n",
    "\n",
    "mytree %<+% d + geom_tiplab(aes(image=images), geom=\"phylopic\", offset = 2.3, color='steelblue') + geom_tiplab(offset = 0.3) + ggplot2::xlim(0, 7)\n",
    "\n"
   ]
  },
  {
   "cell_type": "markdown",
   "metadata": {},
   "source": [
    "## Example 4"
   ]
  },
  {
   "cell_type": "code",
   "execution_count": null,
   "metadata": {},
   "outputs": [],
   "source": [
    "library(OmaDB)\n",
    "\n",
    "human_mouse = getGenomeAlignment(genome_id1 =9606, genome_id2 = 10090, per_page = \"all\", rel_type=\"1:1\")\n",
    "\n",
    "human_dog = getGenomeAlignment(genome_id1 =9606, genome_id2 = 9615, per_page = \"all\", rel_type=\"1:1\")\n",
    "\n",
    "human_mouse$Species  = 'Mus musculus'\n",
    "human_dog$Species = 'Canis lupus familiaris'\n",
    "\n",
    "all_pairs = rbind(human_mouse,human_dog)\n",
    "all_pairs$Species = as.factor(all_pairs$Species)\n",
    "library(ggplot2)\n",
    "\n",
    "g <- ggplot(all_pairs, aes(x = 'evolutionary distance [PAM]', fill = Species)) + geom_density(alpha = 0.5) + theme(legend.position=\"bottom\",panel.grid.major = element_blank(), panel.grid.minor = element_blank(),\n",
    "panel.background = element_blank(), axis.line = element_line(colour = \"black\"))\n",
    "dev.off()\n",
    "\n",
    "print(g)\n",
    "\n",
    "ks.test(human_dog$distance,human_mouse$distance) \n"
   ]
  }
 ],
 "metadata": {
  "kernelspec": {
   "display_name": "R",
   "language": "R",
   "name": "ir"
  },
  "language_info": {
   "codemirror_mode": "r",
   "file_extension": ".r",
   "mimetype": "text/x-r-source",
   "name": "R",
   "pygments_lexer": "r",
   "version": "3.5.1"
  }
 },
 "nbformat": 4,
 "nbformat_minor": 2
}
